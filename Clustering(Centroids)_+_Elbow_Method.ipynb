{
  "nbformat": 4,
  "nbformat_minor": 0,
  "metadata": {
    "colab": {
      "provenance": [],
      "include_colab_link": true
    },
    "kernelspec": {
      "name": "python3",
      "display_name": "Python 3"
    },
    "language_info": {
      "name": "python"
    }
  },
  "cells": [
    {
      "cell_type": "markdown",
      "metadata": {
        "id": "view-in-github",
        "colab_type": "text"
      },
      "source": [
        "<a href=\"https://colab.research.google.com/github/suridianp/The-Classification-of-Coal-Mine-Pillar-Stability-Using-Stacking-Ensemble-Learning-Model/blob/main/Clustering(Centroids)_%2B_Elbow_Method.ipynb\" target=\"_parent\"><img src=\"https://colab.research.google.com/assets/colab-badge.svg\" alt=\"Open In Colab\"/></a>"
      ]
    },
    {
      "cell_type": "markdown",
      "source": [
        "#Dependencies"
      ],
      "metadata": {
        "id": "ZwFyKcabfRxk"
      }
    },
    {
      "cell_type": "code",
      "execution_count": null,
      "metadata": {
        "id": "1SpgpMG3fDnu"
      },
      "outputs": [],
      "source": [
        "# General\n",
        "import numpy as np\n",
        "import pandas as pd\n",
        "import seaborn as sns\n",
        "import matplotlib.pyplot as plt\n",
        "from scipy.spatial.distance import cdist\n",
        "\n",
        "# Sklearn\n",
        "from sklearn import metrics\n",
        "\n",
        "# Dataset\n",
        "from google.colab import drive\n",
        "\n",
        "# Clustering Dependencies\n",
        "from sklearn.cluster import KMeans"
      ]
    },
    {
      "cell_type": "code",
      "source": [],
      "metadata": {
        "id": "GtVSO5qDfZhC"
      },
      "execution_count": null,
      "outputs": []
    },
    {
      "cell_type": "markdown",
      "source": [
        "#Dataset"
      ],
      "metadata": {
        "id": "rCcCnwKQfcBQ"
      }
    },
    {
      "cell_type": "markdown",
      "source": [
        "###Connecting to specific folder of your Google Drive"
      ],
      "metadata": {
        "id": "ZQmcJDGXfeti"
      }
    },
    {
      "cell_type": "code",
      "source": [
        "drive.mount('/content/gdrive', force_remount=True)"
      ],
      "metadata": {
        "colab": {
          "base_uri": "https://localhost:8080/"
        },
        "id": "61KOkRFofk7w",
        "outputId": "4bb610b1-040f-4377-9997-2548736ba7f2"
      },
      "execution_count": null,
      "outputs": [
        {
          "output_type": "stream",
          "name": "stdout",
          "text": [
            "Mounted at /content/gdrive\n"
          ]
        }
      ]
    },
    {
      "cell_type": "markdown",
      "source": [
        "###CSV File to DataFrame\n"
      ],
      "metadata": {
        "id": "ZWtbYlaSfryx"
      }
    },
    {
      "cell_type": "code",
      "source": [
        "df = pd.read_csv(\"/content/gdrive/MyDrive/TDS/Data/data_awal.csv\")\n",
        "# df = pd.read_csv(\"/content/gdrive/MyDrive/Machine Learning/data_awal.csv\")\n",
        "df"
      ],
      "metadata": {
        "colab": {
          "base_uri": "https://localhost:8080/",
          "height": 423
        },
        "id": "DWcN4VXqft4m",
        "outputId": "38a85c92-4a42-4e69-c9e7-1a7ab39b61d6"
      },
      "execution_count": null,
      "outputs": [
        {
          "output_type": "execute_result",
          "data": {
            "text/plain": [
              "     Depth    BW     PW    MH     Ratio Stability\n",
              "0    76.20  6.10   4.88  1.37  3.562044    Failed\n",
              "1    29.00  6.30   5.40  2.90  1.862069    Failed\n",
              "2    60.00  6.00   7.00  1.82  3.846154    Failed\n",
              "3    53.00  6.10   5.60  1.80  3.111111    Failed\n",
              "4    21.00  5.25   6.75  3.20  2.109375    Failed\n",
              "..     ...   ...    ...   ...       ...       ...\n",
              "418  21.34  6.71   6.10  2.74  2.226277    Intact\n",
              "419  30.48  6.40   6.40  3.66  1.748634    Intact\n",
              "420  41.15  6.40   6.40  1.98  3.232323    Intact\n",
              "421  78.54  6.00  14.00  2.70  5.185185    Intact\n",
              "422  78.54  6.00  14.00  2.40  5.833333    Intact\n",
              "\n",
              "[423 rows x 6 columns]"
            ],
            "text/html": [
              "\n",
              "  <div id=\"df-f310b118-2bd9-4876-9361-c5466c6b8291\">\n",
              "    <div class=\"colab-df-container\">\n",
              "      <div>\n",
              "<style scoped>\n",
              "    .dataframe tbody tr th:only-of-type {\n",
              "        vertical-align: middle;\n",
              "    }\n",
              "\n",
              "    .dataframe tbody tr th {\n",
              "        vertical-align: top;\n",
              "    }\n",
              "\n",
              "    .dataframe thead th {\n",
              "        text-align: right;\n",
              "    }\n",
              "</style>\n",
              "<table border=\"1\" class=\"dataframe\">\n",
              "  <thead>\n",
              "    <tr style=\"text-align: right;\">\n",
              "      <th></th>\n",
              "      <th>Depth</th>\n",
              "      <th>BW</th>\n",
              "      <th>PW</th>\n",
              "      <th>MH</th>\n",
              "      <th>Ratio</th>\n",
              "      <th>Stability</th>\n",
              "    </tr>\n",
              "  </thead>\n",
              "  <tbody>\n",
              "    <tr>\n",
              "      <th>0</th>\n",
              "      <td>76.20</td>\n",
              "      <td>6.10</td>\n",
              "      <td>4.88</td>\n",
              "      <td>1.37</td>\n",
              "      <td>3.562044</td>\n",
              "      <td>Failed</td>\n",
              "    </tr>\n",
              "    <tr>\n",
              "      <th>1</th>\n",
              "      <td>29.00</td>\n",
              "      <td>6.30</td>\n",
              "      <td>5.40</td>\n",
              "      <td>2.90</td>\n",
              "      <td>1.862069</td>\n",
              "      <td>Failed</td>\n",
              "    </tr>\n",
              "    <tr>\n",
              "      <th>2</th>\n",
              "      <td>60.00</td>\n",
              "      <td>6.00</td>\n",
              "      <td>7.00</td>\n",
              "      <td>1.82</td>\n",
              "      <td>3.846154</td>\n",
              "      <td>Failed</td>\n",
              "    </tr>\n",
              "    <tr>\n",
              "      <th>3</th>\n",
              "      <td>53.00</td>\n",
              "      <td>6.10</td>\n",
              "      <td>5.60</td>\n",
              "      <td>1.80</td>\n",
              "      <td>3.111111</td>\n",
              "      <td>Failed</td>\n",
              "    </tr>\n",
              "    <tr>\n",
              "      <th>4</th>\n",
              "      <td>21.00</td>\n",
              "      <td>5.25</td>\n",
              "      <td>6.75</td>\n",
              "      <td>3.20</td>\n",
              "      <td>2.109375</td>\n",
              "      <td>Failed</td>\n",
              "    </tr>\n",
              "    <tr>\n",
              "      <th>...</th>\n",
              "      <td>...</td>\n",
              "      <td>...</td>\n",
              "      <td>...</td>\n",
              "      <td>...</td>\n",
              "      <td>...</td>\n",
              "      <td>...</td>\n",
              "    </tr>\n",
              "    <tr>\n",
              "      <th>418</th>\n",
              "      <td>21.34</td>\n",
              "      <td>6.71</td>\n",
              "      <td>6.10</td>\n",
              "      <td>2.74</td>\n",
              "      <td>2.226277</td>\n",
              "      <td>Intact</td>\n",
              "    </tr>\n",
              "    <tr>\n",
              "      <th>419</th>\n",
              "      <td>30.48</td>\n",
              "      <td>6.40</td>\n",
              "      <td>6.40</td>\n",
              "      <td>3.66</td>\n",
              "      <td>1.748634</td>\n",
              "      <td>Intact</td>\n",
              "    </tr>\n",
              "    <tr>\n",
              "      <th>420</th>\n",
              "      <td>41.15</td>\n",
              "      <td>6.40</td>\n",
              "      <td>6.40</td>\n",
              "      <td>1.98</td>\n",
              "      <td>3.232323</td>\n",
              "      <td>Intact</td>\n",
              "    </tr>\n",
              "    <tr>\n",
              "      <th>421</th>\n",
              "      <td>78.54</td>\n",
              "      <td>6.00</td>\n",
              "      <td>14.00</td>\n",
              "      <td>2.70</td>\n",
              "      <td>5.185185</td>\n",
              "      <td>Intact</td>\n",
              "    </tr>\n",
              "    <tr>\n",
              "      <th>422</th>\n",
              "      <td>78.54</td>\n",
              "      <td>6.00</td>\n",
              "      <td>14.00</td>\n",
              "      <td>2.40</td>\n",
              "      <td>5.833333</td>\n",
              "      <td>Intact</td>\n",
              "    </tr>\n",
              "  </tbody>\n",
              "</table>\n",
              "<p>423 rows × 6 columns</p>\n",
              "</div>\n",
              "      <button class=\"colab-df-convert\" onclick=\"convertToInteractive('df-f310b118-2bd9-4876-9361-c5466c6b8291')\"\n",
              "              title=\"Convert this dataframe to an interactive table.\"\n",
              "              style=\"display:none;\">\n",
              "        \n",
              "  <svg xmlns=\"http://www.w3.org/2000/svg\" height=\"24px\"viewBox=\"0 0 24 24\"\n",
              "       width=\"24px\">\n",
              "    <path d=\"M0 0h24v24H0V0z\" fill=\"none\"/>\n",
              "    <path d=\"M18.56 5.44l.94 2.06.94-2.06 2.06-.94-2.06-.94-.94-2.06-.94 2.06-2.06.94zm-11 1L8.5 8.5l.94-2.06 2.06-.94-2.06-.94L8.5 2.5l-.94 2.06-2.06.94zm10 10l.94 2.06.94-2.06 2.06-.94-2.06-.94-.94-2.06-.94 2.06-2.06.94z\"/><path d=\"M17.41 7.96l-1.37-1.37c-.4-.4-.92-.59-1.43-.59-.52 0-1.04.2-1.43.59L10.3 9.45l-7.72 7.72c-.78.78-.78 2.05 0 2.83L4 21.41c.39.39.9.59 1.41.59.51 0 1.02-.2 1.41-.59l7.78-7.78 2.81-2.81c.8-.78.8-2.07 0-2.86zM5.41 20L4 18.59l7.72-7.72 1.47 1.35L5.41 20z\"/>\n",
              "  </svg>\n",
              "      </button>\n",
              "      \n",
              "  <style>\n",
              "    .colab-df-container {\n",
              "      display:flex;\n",
              "      flex-wrap:wrap;\n",
              "      gap: 12px;\n",
              "    }\n",
              "\n",
              "    .colab-df-convert {\n",
              "      background-color: #E8F0FE;\n",
              "      border: none;\n",
              "      border-radius: 50%;\n",
              "      cursor: pointer;\n",
              "      display: none;\n",
              "      fill: #1967D2;\n",
              "      height: 32px;\n",
              "      padding: 0 0 0 0;\n",
              "      width: 32px;\n",
              "    }\n",
              "\n",
              "    .colab-df-convert:hover {\n",
              "      background-color: #E2EBFA;\n",
              "      box-shadow: 0px 1px 2px rgba(60, 64, 67, 0.3), 0px 1px 3px 1px rgba(60, 64, 67, 0.15);\n",
              "      fill: #174EA6;\n",
              "    }\n",
              "\n",
              "    [theme=dark] .colab-df-convert {\n",
              "      background-color: #3B4455;\n",
              "      fill: #D2E3FC;\n",
              "    }\n",
              "\n",
              "    [theme=dark] .colab-df-convert:hover {\n",
              "      background-color: #434B5C;\n",
              "      box-shadow: 0px 1px 3px 1px rgba(0, 0, 0, 0.15);\n",
              "      filter: drop-shadow(0px 1px 2px rgba(0, 0, 0, 0.3));\n",
              "      fill: #FFFFFF;\n",
              "    }\n",
              "  </style>\n",
              "\n",
              "      <script>\n",
              "        const buttonEl =\n",
              "          document.querySelector('#df-f310b118-2bd9-4876-9361-c5466c6b8291 button.colab-df-convert');\n",
              "        buttonEl.style.display =\n",
              "          google.colab.kernel.accessAllowed ? 'block' : 'none';\n",
              "\n",
              "        async function convertToInteractive(key) {\n",
              "          const element = document.querySelector('#df-f310b118-2bd9-4876-9361-c5466c6b8291');\n",
              "          const dataTable =\n",
              "            await google.colab.kernel.invokeFunction('convertToInteractive',\n",
              "                                                     [key], {});\n",
              "          if (!dataTable) return;\n",
              "\n",
              "          const docLinkHtml = 'Like what you see? Visit the ' +\n",
              "            '<a target=\"_blank\" href=https://colab.research.google.com/notebooks/data_table.ipynb>data table notebook</a>'\n",
              "            + ' to learn more about interactive tables.';\n",
              "          element.innerHTML = '';\n",
              "          dataTable['output_type'] = 'display_data';\n",
              "          await google.colab.output.renderOutput(dataTable, element);\n",
              "          const docLink = document.createElement('div');\n",
              "          docLink.innerHTML = docLinkHtml;\n",
              "          element.appendChild(docLink);\n",
              "        }\n",
              "      </script>\n",
              "    </div>\n",
              "  </div>\n",
              "  "
            ]
          },
          "metadata": {},
          "execution_count": 3
        }
      ]
    },
    {
      "cell_type": "code",
      "source": [
        "df1 = df.drop([\"Ratio\"],axis=1)"
      ],
      "metadata": {
        "id": "rNMk3frGIvIR"
      },
      "execution_count": null,
      "outputs": []
    },
    {
      "cell_type": "markdown",
      "source": [
        "###Correlation"
      ],
      "metadata": {
        "id": "rFz_qq_Af7HY"
      }
    },
    {
      "cell_type": "code",
      "source": [
        "# Correlation Matrix\n",
        "corrmat = df1.corr()\n",
        "f, ax = plt.subplots(figsize =(9, 8))\n",
        "sns.heatmap(corrmat, ax = ax, cmap =\"YlGnBu\", linewidths = 0.1, annot = True)"
      ],
      "metadata": {
        "colab": {
          "base_uri": "https://localhost:8080/",
          "height": 504
        },
        "id": "wDhNp3C6f_wv",
        "outputId": "4f4b23a3-1eaa-4f77-cde1-aa9d00a8623d"
      },
      "execution_count": null,
      "outputs": [
        {
          "output_type": "execute_result",
          "data": {
            "text/plain": [
              "<matplotlib.axes._subplots.AxesSubplot at 0x7f51dc7f9d00>"
            ]
          },
          "metadata": {},
          "execution_count": 5
        },
        {
          "output_type": "display_data",
          "data": {
            "text/plain": [
              "<Figure size 648x576 with 2 Axes>"
            ],
            "image/png": "[encoded data removed]"
          },
          "metadata": {
            "needs_background": "light"
          }
        }
      ]
    },
    {
      "cell_type": "markdown",
      "source": [
        "Based on the chart, it can be seen that the strongest correlation is the Depth section with PW"
      ],
      "metadata": {
        "id": "RlUTcUMj0cb5"
      }
    },
    {
      "cell_type": "code",
      "source": [
        "import plotly.express as px\n",
        "\n",
        "X = df1[['Depth', 'PW']]\n",
        "\n",
        "fig = px.scatter(df1, x='Depth', y='PW', color=df1['Stability'])\n",
        "fig.show()"
      ],
      "metadata": {
        "colab": {
          "base_uri": "https://localhost:8080/",
          "height": 542
        },
        "id": "M9Cxd_uk48Po",
        "outputId": "63006a3f-b0da-4d66-f69a-d223e4e3616d"
      },
      "execution_count": null,
      "outputs": [
        {
          "output_type": "display_data",
          "data": {
            "text/html": [
              "<html>\n",
              "<head><meta charset=\"utf-8\" /></head>\n",
              "<body>\n",
              "    <div>            <script src=\"https://cdnjs.cloudflare.com/ajax/libs/mathjax/2.7.5/MathJax.js?config=TeX-AMS-MML_SVG\"></script><script type=\"text/javascript\">if (window.MathJax) {MathJax.Hub.Config({SVG: {font: \"STIX-Web\"}});}</script>                <script type=\"text/javascript\">window.PlotlyConfig = {MathJaxConfig: 'local'};</script>\n",
              "        <script src=\"https://cdn.plot.ly/plotly-2.8.3.min.js\"></script>                <div id=\"6cf00283-bcd6-4684-b279-74026c79aaae\" class=\"plotly-graph-div\" style=\"height:525px; width:100%;\"></div>            <script type=\"text/javascript\">                                    window.PLOTLYENV=window.PLOTLYENV || {};                                    if (document.getElementById(\"6cf00283-bcd6-4684-b279-74026c79aaae\")) {                    Plotly.newPlot(                        \"6cf00283-bcd6-4684-b279-74026c79aaae\",                        [{\"hovertemplate\":\"Stability=Failed<br>Depth=%{x}<br>PW=%{y}<extra></extra>\",\"legendgroup\":\"Failed\",\"marker\":{\"color\":\"#636efa\",\"symbol\":\"circle\"},\"mode\":\"markers\",\"name\":\"Failed\",\"orientation\":\"v\",\"showlegend\":true,\"x\":[76.2,29.0,60.0,53.0,21.0,19.0,23.0,40.0,42.0,50.0,55.0,87.8,55.5,78.2,73.5,70.0,63.5,61.0,61.0,74.0,74.0,57.66,165.7,195.0,205.0,167.6,193.2,184.7,36.6,62.5,101.0,100.0,97.0,51.5,112.0,108.0,82.0,96.0,70.0,88.0,112.0,96.0,82.0,104.0,128.0,128.0,57.9,152.4,28.5,34.0,34.0,90.0,57.0,62.0,62.0,56.0,33.0,22.0,62.0,62.0,41.0,41.0,41.0,35.5,32.0,32.5,43.0,86.4,102.0,61.0,61.0,57.9,41.1,25.9,21.3,29.6,27.4,36.6,33.5,30.5,53.3,68.6,88.4,57.9,61.0,30.5],\"xaxis\":\"x\",\"y\":[4.88,5.4,7.0,5.6,6.75,6.0,6.0,7.0,4.5,7.0,7.0,6.1,7.43,10.53,8.4,7.5,7.5,6.0,7.5,10.0,7.7,5.3,15.0,17.0,17.0,15.85,15.85,15.85,6.1,6.1,9.0,8.5,9.0,6.0,10.55,10.55,10.0,12.0,12.5,11.0,11.5,12.0,12.0,12.0,12.8,9.75,5.18,12.19,3.8,3.5,3.5,7.5,3.6,7.5,7.3,5.1,6.4,3.5,6.1,6.1,6.4,6.4,6.4,5.5,3.3,3.2,4.8,7.5,7.6,6.1,6.1,6.1,4.27,3.66,3.96,5.18,3.66,4.57,6.1,4.57,5.18,3.35,7.16,5.18,4.72,3.35],\"yaxis\":\"y\",\"type\":\"scatter\"},{\"hovertemplate\":\"Stability=Intact<br>Depth=%{x}<br>PW=%{y}<extra></extra>\",\"legendgroup\":\"Intact\",\"marker\":{\"color\":\"#EF553B\",\"symbol\":\"circle\"},\"mode\":\"markers\",\"name\":\"Intact\",\"orientation\":\"v\",\"showlegend\":true,\"x\":[36.2,39.95,55.2,30.35,41.35,57.34,63.15,40.86,30.55,49.82,47.07,66.95,25.98,26.83,42.61,23.0,23.76,23.54,26.75,19.4,20.8,23.33,58.89,96.2,33.94,39.1,36.5,24.15,25.7,18.58,21.5,44.95,26.51,97.27,165.45,167.68,183.83,54.0,112.0,98.15,64.79,80.5,54.6,25.15,35.73,55.7,52.5,35.5,40.33,22.62,28.75,22.3,37.7,36.26,50.17,37.08,61.1,42.0,39.33,59.16,64.24,59.98,17.91,29.56,45.72,76.2,85.34,121.92,97.54,108.0,108.0,150.0,208.0,208.0,166.0,174.0,64.47,50.0,34.6,77.65,55.75,55.75,79.92,34.15,36.53,45.72,68.58,91.44,76.2,30.48,63.64,70.79,118.62,108.75,53.86,98.72,170.0,154.0,171.7,151.0,137.0,106.0,91.44,60.96,114.0,146.3,91.44,114.0,106.68,140.21,93.88,39.62,91.44,223.38,173.22,215.05,254.45,215.05,62.48,62.48,62.48,70.0,122.17,122.0,122.0,94.0,94.0,45.72,60.96,76.2,91.44,40.07,40.07,56.11,111.91,121.02,143.26,140.72,83.43,101.21,114.35,119.41,114.3,104.76,130.75,44.55,44.55,40.3,37.36,70.76,44.55,87.53,90.22,115.82,84.84,84.84,84.84,61.5,61.5,58.71,58.71,108.63,108.63,94.28,94.28,51.82,64.01,48.77,108.51,46.1,50.0,58.3,59.3,196.0,64.92,55.0,65.0,51.0,68.0,46.0,74.0,68.0,68.0,54.0,70.0,49.0,51.0,72.0,77.0,57.0,75.0,78.0,54.0,56.0,64.92,73.0,81.0,64.92,75.0,84.0,79.0,74.0,71.0,73.0,83.0,75.0,77.0,71.0,76.0,66.0,76.0,77.0,93.8,93.8,93.8,109.0,106.0,92.28,122.0,122.0,97.54,106.68,45.72,60.96,60.96,30.48,85.34,167.64,108.51,42.67,140.21,160.93,180.44,163.98,146.0,198.12,182.88,36.58,91.44,60.96,76.2,91.44,45.72,178.49,195.15,203.42,203.42,42.67,91.44,48.77,83.92,87.6,45.72,60.96,45.72,60.96,76.2,91.44,76.2,33.53,115.82,169.0,70.0,104.0,110.5,110.5,70.0,70.0,93.0,84.0,84.0,47.24,64.01,91.44,38.1,106.68,88.39,84.65,85.34,108.51,79.4,138.89,138.89,79.4,60.96,30.48,44.2,42.8,67.8,67.8,36.3,51.8,124.9,110.0,146.2,68.9,34.5,33.8,52.8,38.37,52.8,45.72,219.46,76.2,106.68,182.88,91.44,35.05,50.6,76.2,35.05,42.0,36.0,38.0,22.0,36.58,51.82,137.16,91.44,45.72,19.81,29.77,58.53,58.53,42.59,13.22,65.78,54.65,54.99,45.72,82.0,70.1,21.34,30.48,41.15,78.54,78.54],\"xaxis\":\"x\",\"y\":[5.7,6.89,8.98,8.96,8.0,9.07,8.02,7.55,8.07,7.63,8.29,7.77,3.11,2.91,4.38,4.0,4.3,4.24,4.54,4.26,4.24,4.37,8.06,8.06,8.17,6.63,7.25,6.1,6.15,4.86,5.09,5.03,4.32,8.63,11.66,12.98,12.99,6.0,17.0,12.56,13.03,6.58,5.67,4.39,5.0,6.85,5.66,4.6,4.53,4.8,5.0,6.24,7.05,6.23,5.85,6.29,7.08,5.38,8.05,7.17,5.59,6.19,4.31,6.2,5.49,6.71,8.23,12.8,9.75,9.0,9.0,9.0,17.0,17.0,17.0,17.0,9.0,10.0,12.21,12.0,10.28,11.0,9.0,8.0,7.0,4.27,5.18,6.1,7.62,5.49,14.0,12.0,15.0,14.0,7.0,13.0,22.0,21.37,21.19,23.85,21.82,15.84,6.1,9.75,12.8,17.37,12.8,17.37,9.14,12.8,9.75,6.1,6.1,28.0,25.0,35.0,35.0,25.0,10.0,15.0,9.0,15.0,12.0,15.4,15.4,10.22,10.2,6.1,7.62,9.14,10.67,8.0,7.5,7.5,13.4,13.0,12.8,15.0,12.0,12.0,12.0,15.0,12.0,12.0,15.0,12.0,12.0,8.0,10.0,14.0,6.0,12.0,8.53,7.62,7.0,7.0,7.0,9.47,9.26,11.0,7.0,12.5,18.5,10.0,10.0,9.14,7.62,9.14,8.53,7.1,9.3,8.47,11.0,15.0,20.57,11.8,10.98,8.89,11.66,8.6,11.31,10.87,12.9,8.92,10.68,8.57,8.65,12.89,10.04,9.35,10.7,10.7,8.52,8.59,9.0,10.63,13.01,9.0,10.03,12.97,13.58,9.9,12.32,10.21,13.66,11.03,10.22,10.7,10.8,10.92,8.85,9.81,14.0,14.92,14.7,17.5,16.47,17.07,21.0,21.2,9.14,15.24,4.88,4.88,7.01,2.74,7.62,14.33,7.62,4.27,17.37,14.94,15.24,15.0,16.46,17.16,15.85,7.32,7.62,9.14,10.67,12.19,6.1,19.0,20.0,19.0,19.0,5.49,6.1,7.32,11.47,12.0,6.1,7.62,6.1,7.62,9.14,12.19,9.14,6.71,9.14,21.81,12.0,11.0,12.0,12.0,20.57,15.44,10.0,11.0,11.5,6.1,6.1,10.67,4.27,12.19,9.14,6.0,7.62,8.84,24.0,17.78,31.06,19.47,7.01,6.1,6.1,7.0,11.0,11.73,8.0,10.98,18.27,17.82,19.89,12.9,5.5,8.0,8.0,8.1,11.3,6.1,21.73,7.62,6.71,16.92,12.19,9.75,6.1,9.14,7.32,5.0,5.0,5.0,6.0,6.1,7.62,12.8,9.14,7.62,7.62,14.0,11.42,14.0,15.0,8.0,10.0,10.0,9.47,6.55,12.0,12.0,6.1,6.4,6.4,14.0,14.0],\"yaxis\":\"y\",\"type\":\"scatter\"}],                        {\"template\":{\"data\":{\"bar\":[{\"error_x\":{\"color\":\"#2a3f5f\"},\"error_y\":{\"color\":\"#2a3f5f\"},\"marker\":{\"line\":{\"color\":\"#E5ECF6\",\"width\":0.5},\"pattern\":{\"fillmode\":\"overlay\",\"size\":10,\"solidity\":0.2}},\"type\":\"bar\"}],\"barpolar\":[{\"marker\":{\"line\":{\"color\":\"#E5ECF6\",\"width\":0.5},\"pattern\":{\"fillmode\":\"overlay\",\"size\":10,\"solidity\":0.2}},\"type\":\"barpolar\"}],\"carpet\":[{\"aaxis\":{\"endlinecolor\":\"#2a3f5f\",\"gridcolor\":\"white\",\"linecolor\":\"white\",\"minorgridcolor\":\"white\",\"startlinecolor\":\"#2a3f5f\"},\"baxis\":{\"endlinecolor\":\"#2a3f5f\",\"gridcolor\":\"white\",\"linecolor\":\"white\",\"minorgridcolor\":\"white\",\"startlinecolor\":\"#2a3f5f\"},\"type\":\"carpet\"}],\"choropleth\":[{\"colorbar\":{\"outlinewidth\":0,\"ticks\":\"\"},\"type\":\"choropleth\"}],\"contour\":[{\"colorbar\":{\"outlinewidth\":0,\"ticks\":\"\"},\"colorscale\":[[0.0,\"#0d0887\"],[0.1111111111111111,\"#46039f\"],[0.2222222222222222,\"#7201a8\"],[0.3333333333333333,\"#9c179e\"],[0.4444444444444444,\"#bd3786\"],[0.5555555555555556,\"#d8576b\"],[0.6666666666666666,\"#ed7953\"],[0.7777777777777778,\"#fb9f3a\"],[0.8888888888888888,\"#fdca26\"],[1.0,\"#f0f921\"]],\"type\":\"contour\"}],\"contourcarpet\":[{\"colorbar\":{\"outlinewidth\":0,\"ticks\":\"\"},\"type\":\"contourcarpet\"}],\"heatmap\":[{\"colorbar\":{\"outlinewidth\":0,\"ticks\":\"\"},\"colorscale\":[[0.0,\"#0d0887\"],[0.1111111111111111,\"#46039f\"],[0.2222222222222222,\"#7201a8\"],[0.3333333333333333,\"#9c179e\"],[0.4444444444444444,\"#bd3786\"],[0.5555555555555556,\"#d8576b\"],[0.6666666666666666,\"#ed7953\"],[0.7777777777777778,\"#fb9f3a\"],[0.8888888888888888,\"#fdca26\"],[1.0,\"#f0f921\"]],\"type\":\"heatmap\"}],\"heatmapgl\":[{\"colorbar\":{\"outlinewidth\":0,\"ticks\":\"\"},\"colorscale\":[[0.0,\"#0d0887\"],[0.1111111111111111,\"#46039f\"],[0.2222222222222222,\"#7201a8\"],[0.3333333333333333,\"#9c179e\"],[0.4444444444444444,\"#bd3786\"],[0.5555555555555556,\"#d8576b\"],[0.6666666666666666,\"#ed7953\"],[0.7777777777777778,\"#fb9f3a\"],[0.8888888888888888,\"#fdca26\"],[1.0,\"#f0f921\"]],\"type\":\"heatmapgl\"}],\"histogram\":[{\"marker\":{\"pattern\":{\"fillmode\":\"overlay\",\"size\":10,\"solidity\":0.2}},\"type\":\"histogram\"}],\"histogram2d\":[{\"colorbar\":{\"outlinewidth\":0,\"ticks\":\"\"},\"colorscale\":[[0.0,\"#0d0887\"],[0.1111111111111111,\"#46039f\"],[0.2222222222222222,\"#7201a8\"],[0.3333333333333333,\"#9c179e\"],[0.4444444444444444,\"#bd3786\"],[0.5555555555555556,\"#d8576b\"],[0.6666666666666666,\"#ed7953\"],[0.7777777777777778,\"#fb9f3a\"],[0.8888888888888888,\"#fdca26\"],[1.0,\"#f0f921\"]],\"type\":\"histogram2d\"}],\"histogram2dcontour\":[{\"colorbar\":{\"outlinewidth\":0,\"ticks\":\"\"},\"colorscale\":[[0.0,\"#0d0887\"],[0.1111111111111111,\"#46039f\"],[0.2222222222222222,\"#7201a8\"],[0.3333333333333333,\"#9c179e\"],[0.4444444444444444,\"#bd3786\"],[0.5555555555555556,\"#d8576b\"],[0.6666666666666666,\"#ed7953\"],[0.7777777777777778,\"#fb9f3a\"],[0.8888888888888888,\"#fdca26\"],[1.0,\"#f0f921\"]],\"type\":\"histogram2dcontour\"}],\"mesh3d\":[{\"colorbar\":{\"outlinewidth\":0,\"ticks\":\"\"},\"type\":\"mesh3d\"}],\"parcoords\":[{\"line\":{\"colorbar\":{\"outlinewidth\":0,\"ticks\":\"\"}},\"type\":\"parcoords\"}],\"pie\":[{\"automargin\":true,\"type\":\"pie\"}],\"scatter\":[{\"marker\":{\"colorbar\":{\"outlinewidth\":0,\"ticks\":\"\"}},\"type\":\"scatter\"}],\"scatter3d\":[{\"line\":{\"colorbar\":{\"outlinewidth\":0,\"ticks\":\"\"}},\"marker\":{\"colorbar\":{\"outlinewidth\":0,\"ticks\":\"\"}},\"type\":\"scatter3d\"}],\"scattercarpet\":[{\"marker\":{\"colorbar\":{\"outlinewidth\":0,\"ticks\":\"\"}},\"type\":\"scattercarpet\"}],\"scattergeo\":[{\"marker\":{\"colorbar\":{\"outlinewidth\":0,\"ticks\":\"\"}},\"type\":\"scattergeo\"}],\"scattergl\":[{\"marker\":{\"colorbar\":{\"outlinewidth\":0,\"ticks\":\"\"}},\"type\":\"scattergl\"}],\"scattermapbox\":[{\"marker\":{\"colorbar\":{\"outlinewidth\":0,\"ticks\":\"\"}},\"type\":\"scattermapbox\"}],\"scatterpolar\":[{\"marker\":{\"colorbar\":{\"outlinewidth\":0,\"ticks\":\"\"}},\"type\":\"scatterpolar\"}],\"scatterpolargl\":[{\"marker\":{\"colorbar\":{\"outlinewidth\":0,\"ticks\":\"\"}},\"type\":\"scatterpolargl\"}],\"scatterternary\":[{\"marker\":{\"colorbar\":{\"outlinewidth\":0,\"ticks\":\"\"}},\"type\":\"scatterternary\"}],\"surface\":[{\"colorbar\":{\"outlinewidth\":0,\"ticks\":\"\"},\"colorscale\":[[0.0,\"#0d0887\"],[0.1111111111111111,\"#46039f\"],[0.2222222222222222,\"#7201a8\"],[0.3333333333333333,\"#9c179e\"],[0.4444444444444444,\"#bd3786\"],[0.5555555555555556,\"#d8576b\"],[0.6666666666666666,\"#ed7953\"],[0.7777777777777778,\"#fb9f3a\"],[0.8888888888888888,\"#fdca26\"],[1.0,\"#f0f921\"]],\"type\":\"surface\"}],\"table\":[{\"cells\":{\"fill\":{\"color\":\"#EBF0F8\"},\"line\":{\"color\":\"white\"}},\"header\":{\"fill\":{\"color\":\"#C8D4E3\"},\"line\":{\"color\":\"white\"}},\"type\":\"table\"}]},\"layout\":{\"annotationdefaults\":{\"arrowcolor\":\"#2a3f5f\",\"arrowhead\":0,\"arrowwidth\":1},\"autotypenumbers\":\"strict\",\"coloraxis\":{\"colorbar\":{\"outlinewidth\":0,\"ticks\":\"\"}},\"colorscale\":{\"diverging\":[[0,\"#8e0152\"],[0.1,\"#c51b7d\"],[0.2,\"#de77ae\"],[0.3,\"#f1b6da\"],[0.4,\"#fde0ef\"],[0.5,\"#f7f7f7\"],[0.6,\"#e6f5d0\"],[0.7,\"#b8e186\"],[0.8,\"#7fbc41\"],[0.9,\"#4d9221\"],[1,\"#276419\"]],\"sequential\":[[0.0,\"#0d0887\"],[0.1111111111111111,\"#46039f\"],[0.2222222222222222,\"#7201a8\"],[0.3333333333333333,\"#9c179e\"],[0.4444444444444444,\"#bd3786\"],[0.5555555555555556,\"#d8576b\"],[0.6666666666666666,\"#ed7953\"],[0.7777777777777778,\"#fb9f3a\"],[0.8888888888888888,\"#fdca26\"],[1.0,\"#f0f921\"]],\"sequentialminus\":[[0.0,\"#0d0887\"],[0.1111111111111111,\"#46039f\"],[0.2222222222222222,\"#7201a8\"],[0.3333333333333333,\"#9c179e\"],[0.4444444444444444,\"#bd3786\"],[0.5555555555555556,\"#d8576b\"],[0.6666666666666666,\"#ed7953\"],[0.7777777777777778,\"#fb9f3a\"],[0.8888888888888888,\"#fdca26\"],[1.0,\"#f0f921\"]]},\"colorway\":[\"#636efa\",\"#EF553B\",\"#00cc96\",\"#ab63fa\",\"#FFA15A\",\"#19d3f3\",\"#FF6692\",\"#B6E880\",\"#FF97FF\",\"#FECB52\"],\"font\":{\"color\":\"#2a3f5f\"},\"geo\":{\"bgcolor\":\"white\",\"lakecolor\":\"white\",\"landcolor\":\"#E5ECF6\",\"showlakes\":true,\"showland\":true,\"subunitcolor\":\"white\"},\"hoverlabel\":{\"align\":\"left\"},\"hovermode\":\"closest\",\"mapbox\":{\"style\":\"light\"},\"paper_bgcolor\":\"white\",\"plot_bgcolor\":\"#E5ECF6\",\"polar\":{\"angularaxis\":{\"gridcolor\":\"white\",\"linecolor\":\"white\",\"ticks\":\"\"},\"bgcolor\":\"#E5ECF6\",\"radialaxis\":{\"gridcolor\":\"white\",\"linecolor\":\"white\",\"ticks\":\"\"}},\"scene\":{\"xaxis\":{\"backgroundcolor\":\"#E5ECF6\",\"gridcolor\":\"white\",\"gridwidth\":2,\"linecolor\":\"white\",\"showbackground\":true,\"ticks\":\"\",\"zerolinecolor\":\"white\"},\"yaxis\":{\"backgroundcolor\":\"#E5ECF6\",\"gridcolor\":\"white\",\"gridwidth\":2,\"linecolor\":\"white\",\"showbackground\":true,\"ticks\":\"\",\"zerolinecolor\":\"white\"},\"zaxis\":{\"backgroundcolor\":\"#E5ECF6\",\"gridcolor\":\"white\",\"gridwidth\":2,\"linecolor\":\"white\",\"showbackground\":true,\"ticks\":\"\",\"zerolinecolor\":\"white\"}},\"shapedefaults\":{\"line\":{\"color\":\"#2a3f5f\"}},\"ternary\":{\"aaxis\":{\"gridcolor\":\"white\",\"linecolor\":\"white\",\"ticks\":\"\"},\"baxis\":{\"gridcolor\":\"white\",\"linecolor\":\"white\",\"ticks\":\"\"},\"bgcolor\":\"#E5ECF6\",\"caxis\":{\"gridcolor\":\"white\",\"linecolor\":\"white\",\"ticks\":\"\"}},\"title\":{\"x\":0.05},\"xaxis\":{\"automargin\":true,\"gridcolor\":\"white\",\"linecolor\":\"white\",\"ticks\":\"\",\"title\":{\"standoff\":15},\"zerolinecolor\":\"white\",\"zerolinewidth\":2},\"yaxis\":{\"automargin\":true,\"gridcolor\":\"white\",\"linecolor\":\"white\",\"ticks\":\"\",\"title\":{\"standoff\":15},\"zerolinecolor\":\"white\",\"zerolinewidth\":2}}},\"xaxis\":{\"anchor\":\"y\",\"domain\":[0.0,1.0],\"title\":{\"text\":\"Depth\"}},\"yaxis\":{\"anchor\":\"x\",\"domain\":[0.0,1.0],\"title\":{\"text\":\"PW\"}},\"legend\":{\"title\":{\"text\":\"Stability\"},\"tracegroupgap\":0},\"margin\":{\"t\":60}},                        {\"responsive\": true}                    ).then(function(){\n",
              "                            \n",
              "var gd = document.getElementById('6cf00283-bcd6-4684-b279-74026c79aaae');\n",
              "var x = new MutationObserver(function (mutations, observer) {{\n",
              "        var display = window.getComputedStyle(gd).display;\n",
              "        if (!display || display === 'none') {{\n",
              "            console.log([gd, 'removed!']);\n",
              "            Plotly.purge(gd);\n",
              "            observer.disconnect();\n",
              "        }}\n",
              "}});\n",
              "\n",
              "// Listen for the removal of the full notebook cells\n",
              "var notebookContainer = gd.closest('#notebook-container');\n",
              "if (notebookContainer) {{\n",
              "    x.observe(notebookContainer, {childList: true});\n",
              "}}\n",
              "\n",
              "// Listen for the clearing of the current output cell\n",
              "var outputEl = gd.closest('.output');\n",
              "if (outputEl) {{\n",
              "    x.observe(outputEl, {childList: true});\n",
              "}}\n",
              "\n",
              "                        })                };                            </script>        </div>\n",
              "</body>\n",
              "</html>"
            ]
          },
          "metadata": {}
        }
      ]
    },
    {
      "cell_type": "markdown",
      "source": [
        "#K-Means Clustering"
      ],
      "metadata": {
        "id": "CAqwRj4jgdM7"
      }
    },
    {
      "cell_type": "code",
      "source": [
        "# Running K-Means with a range of k\n",
        "distortions = []\n",
        "K = range(1,10)\n",
        "for k in K:\n",
        "    kmeanModel = KMeans(n_clusters=k)\n",
        "    kmeanModel.fit(X)\n",
        "    distortions.append(kmeanModel.inertia_)"
      ],
      "metadata": {
        "id": "DW0ccuJHgfTi"
      },
      "execution_count": null,
      "outputs": []
    },
    {
      "cell_type": "code",
      "source": [
        "# Plotting the distortions of K-Means\n",
        "plt.figure(figsize=(15,6))\n",
        "plt.plot(K, distortions, 'bx-')\n",
        "plt.xlabel('k')\n",
        "plt.ylabel('Distortion')\n",
        "plt.title('The Elbow Method showing the optimal k')\n",
        "plt.show()"
      ],
      "metadata": {
        "colab": {
          "base_uri": "https://localhost:8080/",
          "height": 378
        },
        "id": "h62C79argjqJ",
        "outputId": "6694d878-028c-4bb4-d108-e614062eaab4"
      },
      "execution_count": null,
      "outputs": [
        {
          "output_type": "display_data",
          "data": {
            "text/plain": [
              "<Figure size 1080x432 with 1 Axes>"
            ],
            "image/png": "[encoded data removed]"
          },
          "metadata": {
            "needs_background": "light"
          }
        }
      ]
    },
    {
      "cell_type": "markdown",
      "source": [
        "Kita dapat mengamati dari penampakan titik belok (inflection point) (**Yuan dan Yang, 2019**), bahwa \"elbow\" yang optimal pada kasus ini adalah angka 2. Sekarang kita dapat menjalankan K-Means dengan menggunakan n_clusters angka 2."
      ],
      "metadata": {
        "id": "I89Nd6ddxNpx"
      }
    },
    {
      "cell_type": "code",
      "source": [
        "kmeanModel = KMeans(n_clusters = 2)\n",
        "kmeanModel.fit(X)"
      ],
      "metadata": {
        "colab": {
          "base_uri": "https://localhost:8080/"
        },
        "id": "9Sizfls7xYg3",
        "outputId": "cb2a5fe2-e287-4b94-aa3a-27fd1a6fac1d"
      },
      "execution_count": null,
      "outputs": [
        {
          "output_type": "execute_result",
          "data": {
            "text/plain": [
              "KMeans(n_clusters=2)"
            ]
          },
          "metadata": {},
          "execution_count": 9
        }
      ]
    },
    {
      "cell_type": "code",
      "source": [
        "centers = np.array(kmeanModel.cluster_centers_)"
      ],
      "metadata": {
        "id": "f3SsZ0qi9EMA"
      },
      "execution_count": null,
      "outputs": []
    },
    {
      "cell_type": "code",
      "source": [
        "df1['Cluster'] = pd.DataFrame(kmeanModel.labels_)"
      ],
      "metadata": {
        "id": "shTZFAsfsFVu"
      },
      "execution_count": null,
      "outputs": []
    },
    {
      "cell_type": "code",
      "source": [
        "df1"
      ],
      "metadata": {
        "colab": {
          "base_uri": "https://localhost:8080/",
          "height": 423
        },
        "id": "yMDIzICQr8Ur",
        "outputId": "848817d9-93cf-4ce0-e33a-521fc8528f2c"
      },
      "execution_count": null,
      "outputs": [
        {
          "output_type": "execute_result",
          "data": {
            "text/plain": [
              "     Depth    BW     PW    MH Stability  Cluster\n",
              "0    76.20  6.10   4.88  1.37    Failed        0\n",
              "1    29.00  6.30   5.40  2.90    Failed        0\n",
              "2    60.00  6.00   7.00  1.82    Failed        0\n",
              "3    53.00  6.10   5.60  1.80    Failed        0\n",
              "4    21.00  5.25   6.75  3.20    Failed        0\n",
              "..     ...   ...    ...   ...       ...      ...\n",
              "418  21.34  6.71   6.10  2.74    Intact        0\n",
              "419  30.48  6.40   6.40  3.66    Intact        0\n",
              "420  41.15  6.40   6.40  1.98    Intact        0\n",
              "421  78.54  6.00  14.00  2.70    Intact        0\n",
              "422  78.54  6.00  14.00  2.40    Intact        0\n",
              "\n",
              "[423 rows x 6 columns]"
            ],
            "text/html": [
              "\n",
              "  <div id=\"df-82586cb7-d79f-4e7a-b159-7f0ba97f1260\">\n",
              "    <div class=\"colab-df-container\">\n",
              "      <div>\n",
              "<style scoped>\n",
              "    .dataframe tbody tr th:only-of-type {\n",
              "        vertical-align: middle;\n",
              "    }\n",
              "\n",
              "    .dataframe tbody tr th {\n",
              "        vertical-align: top;\n",
              "    }\n",
              "\n",
              "    .dataframe thead th {\n",
              "        text-align: right;\n",
              "    }\n",
              "</style>\n",
              "<table border=\"1\" class=\"dataframe\">\n",
              "  <thead>\n",
              "    <tr style=\"text-align: right;\">\n",
              "      <th></th>\n",
              "      <th>Depth</th>\n",
              "      <th>BW</th>\n",
              "      <th>PW</th>\n",
              "      <th>MH</th>\n",
              "      <th>Stability</th>\n",
              "      <th>Cluster</th>\n",
              "    </tr>\n",
              "  </thead>\n",
              "  <tbody>\n",
              "    <tr>\n",
              "      <th>0</th>\n",
              "      <td>76.20</td>\n",
              "      <td>6.10</td>\n",
              "      <td>4.88</td>\n",
              "      <td>1.37</td>\n",
              "      <td>Failed</td>\n",
              "      <td>0</td>\n",
              "    </tr>\n",
              "    <tr>\n",
              "      <th>1</th>\n",
              "      <td>29.00</td>\n",
              "      <td>6.30</td>\n",
              "      <td>5.40</td>\n",
              "      <td>2.90</td>\n",
              "      <td>Failed</td>\n",
              "      <td>0</td>\n",
              "    </tr>\n",
              "    <tr>\n",
              "      <th>2</th>\n",
              "      <td>60.00</td>\n",
              "      <td>6.00</td>\n",
              "      <td>7.00</td>\n",
              "      <td>1.82</td>\n",
              "      <td>Failed</td>\n",
              "      <td>0</td>\n",
              "    </tr>\n",
              "    <tr>\n",
              "      <th>3</th>\n",
              "      <td>53.00</td>\n",
              "      <td>6.10</td>\n",
              "      <td>5.60</td>\n",
              "      <td>1.80</td>\n",
              "      <td>Failed</td>\n",
              "      <td>0</td>\n",
              "    </tr>\n",
              "    <tr>\n",
              "      <th>4</th>\n",
              "      <td>21.00</td>\n",
              "      <td>5.25</td>\n",
              "      <td>6.75</td>\n",
              "      <td>3.20</td>\n",
              "      <td>Failed</td>\n",
              "      <td>0</td>\n",
              "    </tr>\n",
              "    <tr>\n",
              "      <th>...</th>\n",
              "      <td>...</td>\n",
              "      <td>...</td>\n",
              "      <td>...</td>\n",
              "      <td>...</td>\n",
              "      <td>...</td>\n",
              "      <td>...</td>\n",
              "    </tr>\n",
              "    <tr>\n",
              "      <th>418</th>\n",
              "      <td>21.34</td>\n",
              "      <td>6.71</td>\n",
              "      <td>6.10</td>\n",
              "      <td>2.74</td>\n",
              "      <td>Intact</td>\n",
              "      <td>0</td>\n",
              "    </tr>\n",
              "    <tr>\n",
              "      <th>419</th>\n",
              "      <td>30.48</td>\n",
              "      <td>6.40</td>\n",
              "      <td>6.40</td>\n",
              "      <td>3.66</td>\n",
              "      <td>Intact</td>\n",
              "      <td>0</td>\n",
              "    </tr>\n",
              "    <tr>\n",
              "      <th>420</th>\n",
              "      <td>41.15</td>\n",
              "      <td>6.40</td>\n",
              "      <td>6.40</td>\n",
              "      <td>1.98</td>\n",
              "      <td>Intact</td>\n",
              "      <td>0</td>\n",
              "    </tr>\n",
              "    <tr>\n",
              "      <th>421</th>\n",
              "      <td>78.54</td>\n",
              "      <td>6.00</td>\n",
              "      <td>14.00</td>\n",
              "      <td>2.70</td>\n",
              "      <td>Intact</td>\n",
              "      <td>0</td>\n",
              "    </tr>\n",
              "    <tr>\n",
              "      <th>422</th>\n",
              "      <td>78.54</td>\n",
              "      <td>6.00</td>\n",
              "      <td>14.00</td>\n",
              "      <td>2.40</td>\n",
              "      <td>Intact</td>\n",
              "      <td>0</td>\n",
              "    </tr>\n",
              "  </tbody>\n",
              "</table>\n",
              "<p>423 rows × 6 columns</p>\n",
              "</div>\n",
              "      <button class=\"colab-df-convert\" onclick=\"convertToInteractive('df-82586cb7-d79f-4e7a-b159-7f0ba97f1260')\"\n",
              "              title=\"Convert this dataframe to an interactive table.\"\n",
              "              style=\"display:none;\">\n",
              "        \n",
              "  <svg xmlns=\"http://www.w3.org/2000/svg\" height=\"24px\"viewBox=\"0 0 24 24\"\n",
              "       width=\"24px\">\n",
              "    <path d=\"M0 0h24v24H0V0z\" fill=\"none\"/>\n",
              "    <path d=\"M18.56 5.44l.94 2.06.94-2.06 2.06-.94-2.06-.94-.94-2.06-.94 2.06-2.06.94zm-11 1L8.5 8.5l.94-2.06 2.06-.94-2.06-.94L8.5 2.5l-.94 2.06-2.06.94zm10 10l.94 2.06.94-2.06 2.06-.94-2.06-.94-.94-2.06-.94 2.06-2.06.94z\"/><path d=\"M17.41 7.96l-1.37-1.37c-.4-.4-.92-.59-1.43-.59-.52 0-1.04.2-1.43.59L10.3 9.45l-7.72 7.72c-.78.78-.78 2.05 0 2.83L4 21.41c.39.39.9.59 1.41.59.51 0 1.02-.2 1.41-.59l7.78-7.78 2.81-2.81c.8-.78.8-2.07 0-2.86zM5.41 20L4 18.59l7.72-7.72 1.47 1.35L5.41 20z\"/>\n",
              "  </svg>\n",
              "      </button>\n",
              "      \n",
              "  <style>\n",
              "    .colab-df-container {\n",
              "      display:flex;\n",
              "      flex-wrap:wrap;\n",
              "      gap: 12px;\n",
              "    }\n",
              "\n",
              "    .colab-df-convert {\n",
              "      background-color: #E8F0FE;\n",
              "      border: none;\n",
              "      border-radius: 50%;\n",
              "      cursor: pointer;\n",
              "      display: none;\n",
              "      fill: #1967D2;\n",
              "      height: 32px;\n",
              "      padding: 0 0 0 0;\n",
              "      width: 32px;\n",
              "    }\n",
              "\n",
              "    .colab-df-convert:hover {\n",
              "      background-color: #E2EBFA;\n",
              "      box-shadow: 0px 1px 2px rgba(60, 64, 67, 0.3), 0px 1px 3px 1px rgba(60, 64, 67, 0.15);\n",
              "      fill: #174EA6;\n",
              "    }\n",
              "\n",
              "    [theme=dark] .colab-df-convert {\n",
              "      background-color: #3B4455;\n",
              "      fill: #D2E3FC;\n",
              "    }\n",
              "\n",
              "    [theme=dark] .colab-df-convert:hover {\n",
              "      background-color: #434B5C;\n",
              "      box-shadow: 0px 1px 3px 1px rgba(0, 0, 0, 0.15);\n",
              "      filter: drop-shadow(0px 1px 2px rgba(0, 0, 0, 0.3));\n",
              "      fill: #FFFFFF;\n",
              "    }\n",
              "  </style>\n",
              "\n",
              "      <script>\n",
              "        const buttonEl =\n",
              "          document.querySelector('#df-82586cb7-d79f-4e7a-b159-7f0ba97f1260 button.colab-df-convert');\n",
              "        buttonEl.style.display =\n",
              "          google.colab.kernel.accessAllowed ? 'block' : 'none';\n",
              "\n",
              "        async function convertToInteractive(key) {\n",
              "          const element = document.querySelector('#df-82586cb7-d79f-4e7a-b159-7f0ba97f1260');\n",
              "          const dataTable =\n",
              "            await google.colab.kernel.invokeFunction('convertToInteractive',\n",
              "                                                     [key], {});\n",
              "          if (!dataTable) return;\n",
              "\n",
              "          const docLinkHtml = 'Like what you see? Visit the ' +\n",
              "            '<a target=\"_blank\" href=https://colab.research.google.com/notebooks/data_table.ipynb>data table notebook</a>'\n",
              "            + ' to learn more about interactive tables.';\n",
              "          element.innerHTML = '';\n",
              "          dataTable['output_type'] = 'display_data';\n",
              "          await google.colab.output.renderOutput(dataTable, element);\n",
              "          const docLink = document.createElement('div');\n",
              "          docLink.innerHTML = docLinkHtml;\n",
              "          element.appendChild(docLink);\n",
              "        }\n",
              "      </script>\n",
              "    </div>\n",
              "  </div>\n",
              "  "
            ]
          },
          "metadata": {},
          "execution_count": 12
        }
      ]
    },
    {
      "cell_type": "code",
      "source": [
        "colors = ['r', 'b']\n",
        "markers = ['v', 's']\n",
        "\n",
        "f = plt.figure()\n",
        "f.set_figwidth(15)\n",
        "f.set_figheight(6)\n",
        "\n",
        "plt.plot()\n",
        "plt.title('k means centroids')\n",
        "\n",
        "for i, l in enumerate(kmeanModel.labels_):\n",
        "    plt.plot(X['Depth'].iloc[i], X['PW'].iloc[i], color=colors[l], marker=markers[l],ls='None', markersize=5)\n",
        "\n",
        "plt.scatter(centers[:,0], centers[:,1], marker=\".\", color='black', s=500)\n",
        "plt.show()"
      ],
      "metadata": {
        "colab": {
          "base_uri": "https://localhost:8080/",
          "height": 380
        },
        "id": "ihtw6LVj9Mtd",
        "outputId": "accae825-aa74-4e5e-ffeb-1ce1ee9f81f9"
      },
      "execution_count": null,
      "outputs": [
        {
          "output_type": "display_data",
          "data": {
            "text/plain": [
              "<Figure size 1080x432 with 1 Axes>"
            ],
            "image/png": "[encoded data removed]"
          },
          "metadata": {
            "needs_background": "light"
          }
        }
      ]
    },
    {
      "cell_type": "markdown",
      "source": [
        "#Create New Label from old label with new label"
      ],
      "metadata": {
        "id": "3dmrlZo1VbIc"
      }
    },
    {
      "cell_type": "code",
      "source": [
        "df1"
      ],
      "metadata": {
        "colab": {
          "base_uri": "https://localhost:8080/",
          "height": 423
        },
        "id": "Tb49OOpUVf2A",
        "outputId": "34047f6d-b4e5-4f99-f66f-59f43e24875e"
      },
      "execution_count": null,
      "outputs": [
        {
          "output_type": "execute_result",
          "data": {
            "text/plain": [
              "     Depth    BW     PW    MH Stability  Cluster\n",
              "0    76.20  6.10   4.88  1.37    Failed        0\n",
              "1    29.00  6.30   5.40  2.90    Failed        0\n",
              "2    60.00  6.00   7.00  1.82    Failed        0\n",
              "3    53.00  6.10   5.60  1.80    Failed        0\n",
              "4    21.00  5.25   6.75  3.20    Failed        0\n",
              "..     ...   ...    ...   ...       ...      ...\n",
              "418  21.34  6.71   6.10  2.74    Intact        0\n",
              "419  30.48  6.40   6.40  3.66    Intact        0\n",
              "420  41.15  6.40   6.40  1.98    Intact        0\n",
              "421  78.54  6.00  14.00  2.70    Intact        0\n",
              "422  78.54  6.00  14.00  2.40    Intact        0\n",
              "\n",
              "[423 rows x 6 columns]"
            ],
            "text/html": [
              "\n",
              "  <div id=\"df-cd929ca4-f3d6-45b2-a1c0-e9662bc01491\">\n",
              "    <div class=\"colab-df-container\">\n",
              "      <div>\n",
              "<style scoped>\n",
              "    .dataframe tbody tr th:only-of-type {\n",
              "        vertical-align: middle;\n",
              "    }\n",
              "\n",
              "    .dataframe tbody tr th {\n",
              "        vertical-align: top;\n",
              "    }\n",
              "\n",
              "    .dataframe thead th {\n",
              "        text-align: right;\n",
              "    }\n",
              "</style>\n",
              "<table border=\"1\" class=\"dataframe\">\n",
              "  <thead>\n",
              "    <tr style=\"text-align: right;\">\n",
              "      <th></th>\n",
              "      <th>Depth</th>\n",
              "      <th>BW</th>\n",
              "      <th>PW</th>\n",
              "      <th>MH</th>\n",
              "      <th>Stability</th>\n",
              "      <th>Cluster</th>\n",
              "    </tr>\n",
              "  </thead>\n",
              "  <tbody>\n",
              "    <tr>\n",
              "      <th>0</th>\n",
              "      <td>76.20</td>\n",
              "      <td>6.10</td>\n",
              "      <td>4.88</td>\n",
              "      <td>1.37</td>\n",
              "      <td>Failed</td>\n",
              "      <td>0</td>\n",
              "    </tr>\n",
              "    <tr>\n",
              "      <th>1</th>\n",
              "      <td>29.00</td>\n",
              "      <td>6.30</td>\n",
              "      <td>5.40</td>\n",
              "      <td>2.90</td>\n",
              "      <td>Failed</td>\n",
              "      <td>0</td>\n",
              "    </tr>\n",
              "    <tr>\n",
              "      <th>2</th>\n",
              "      <td>60.00</td>\n",
              "      <td>6.00</td>\n",
              "      <td>7.00</td>\n",
              "      <td>1.82</td>\n",
              "      <td>Failed</td>\n",
              "      <td>0</td>\n",
              "    </tr>\n",
              "    <tr>\n",
              "      <th>3</th>\n",
              "      <td>53.00</td>\n",
              "      <td>6.10</td>\n",
              "      <td>5.60</td>\n",
              "      <td>1.80</td>\n",
              "      <td>Failed</td>\n",
              "      <td>0</td>\n",
              "    </tr>\n",
              "    <tr>\n",
              "      <th>4</th>\n",
              "      <td>21.00</td>\n",
              "      <td>5.25</td>\n",
              "      <td>6.75</td>\n",
              "      <td>3.20</td>\n",
              "      <td>Failed</td>\n",
              "      <td>0</td>\n",
              "    </tr>\n",
              "    <tr>\n",
              "      <th>...</th>\n",
              "      <td>...</td>\n",
              "      <td>...</td>\n",
              "      <td>...</td>\n",
              "      <td>...</td>\n",
              "      <td>...</td>\n",
              "      <td>...</td>\n",
              "    </tr>\n",
              "    <tr>\n",
              "      <th>418</th>\n",
              "      <td>21.34</td>\n",
              "      <td>6.71</td>\n",
              "      <td>6.10</td>\n",
              "      <td>2.74</td>\n",
              "      <td>Intact</td>\n",
              "      <td>0</td>\n",
              "    </tr>\n",
              "    <tr>\n",
              "      <th>419</th>\n",
              "      <td>30.48</td>\n",
              "      <td>6.40</td>\n",
              "      <td>6.40</td>\n",
              "      <td>3.66</td>\n",
              "      <td>Intact</td>\n",
              "      <td>0</td>\n",
              "    </tr>\n",
              "    <tr>\n",
              "      <th>420</th>\n",
              "      <td>41.15</td>\n",
              "      <td>6.40</td>\n",
              "      <td>6.40</td>\n",
              "      <td>1.98</td>\n",
              "      <td>Intact</td>\n",
              "      <td>0</td>\n",
              "    </tr>\n",
              "    <tr>\n",
              "      <th>421</th>\n",
              "      <td>78.54</td>\n",
              "      <td>6.00</td>\n",
              "      <td>14.00</td>\n",
              "      <td>2.70</td>\n",
              "      <td>Intact</td>\n",
              "      <td>0</td>\n",
              "    </tr>\n",
              "    <tr>\n",
              "      <th>422</th>\n",
              "      <td>78.54</td>\n",
              "      <td>6.00</td>\n",
              "      <td>14.00</td>\n",
              "      <td>2.40</td>\n",
              "      <td>Intact</td>\n",
              "      <td>0</td>\n",
              "    </tr>\n",
              "  </tbody>\n",
              "</table>\n",
              "<p>423 rows × 6 columns</p>\n",
              "</div>\n",
              "      <button class=\"colab-df-convert\" onclick=\"convertToInteractive('df-cd929ca4-f3d6-45b2-a1c0-e9662bc01491')\"\n",
              "              title=\"Convert this dataframe to an interactive table.\"\n",
              "              style=\"display:none;\">\n",
              "        \n",
              "  <svg xmlns=\"http://www.w3.org/2000/svg\" height=\"24px\"viewBox=\"0 0 24 24\"\n",
              "       width=\"24px\">\n",
              "    <path d=\"M0 0h24v24H0V0z\" fill=\"none\"/>\n",
              "    <path d=\"M18.56 5.44l.94 2.06.94-2.06 2.06-.94-2.06-.94-.94-2.06-.94 2.06-2.06.94zm-11 1L8.5 8.5l.94-2.06 2.06-.94-2.06-.94L8.5 2.5l-.94 2.06-2.06.94zm10 10l.94 2.06.94-2.06 2.06-.94-2.06-.94-.94-2.06-.94 2.06-2.06.94z\"/><path d=\"M17.41 7.96l-1.37-1.37c-.4-.4-.92-.59-1.43-.59-.52 0-1.04.2-1.43.59L10.3 9.45l-7.72 7.72c-.78.78-.78 2.05 0 2.83L4 21.41c.39.39.9.59 1.41.59.51 0 1.02-.2 1.41-.59l7.78-7.78 2.81-2.81c.8-.78.8-2.07 0-2.86zM5.41 20L4 18.59l7.72-7.72 1.47 1.35L5.41 20z\"/>\n",
              "  </svg>\n",
              "      </button>\n",
              "      \n",
              "  <style>\n",
              "    .colab-df-container {\n",
              "      display:flex;\n",
              "      flex-wrap:wrap;\n",
              "      gap: 12px;\n",
              "    }\n",
              "\n",
              "    .colab-df-convert {\n",
              "      background-color: #E8F0FE;\n",
              "      border: none;\n",
              "      border-radius: 50%;\n",
              "      cursor: pointer;\n",
              "      display: none;\n",
              "      fill: #1967D2;\n",
              "      height: 32px;\n",
              "      padding: 0 0 0 0;\n",
              "      width: 32px;\n",
              "    }\n",
              "\n",
              "    .colab-df-convert:hover {\n",
              "      background-color: #E2EBFA;\n",
              "      box-shadow: 0px 1px 2px rgba(60, 64, 67, 0.3), 0px 1px 3px 1px rgba(60, 64, 67, 0.15);\n",
              "      fill: #174EA6;\n",
              "    }\n",
              "\n",
              "    [theme=dark] .colab-df-convert {\n",
              "      background-color: #3B4455;\n",
              "      fill: #D2E3FC;\n",
              "    }\n",
              "\n",
              "    [theme=dark] .colab-df-convert:hover {\n",
              "      background-color: #434B5C;\n",
              "      box-shadow: 0px 1px 3px 1px rgba(0, 0, 0, 0.15);\n",
              "      filter: drop-shadow(0px 1px 2px rgba(0, 0, 0, 0.3));\n",
              "      fill: #FFFFFF;\n",
              "    }\n",
              "  </style>\n",
              "\n",
              "      <script>\n",
              "        const buttonEl =\n",
              "          document.querySelector('#df-cd929ca4-f3d6-45b2-a1c0-e9662bc01491 button.colab-df-convert');\n",
              "        buttonEl.style.display =\n",
              "          google.colab.kernel.accessAllowed ? 'block' : 'none';\n",
              "\n",
              "        async function convertToInteractive(key) {\n",
              "          const element = document.querySelector('#df-cd929ca4-f3d6-45b2-a1c0-e9662bc01491');\n",
              "          const dataTable =\n",
              "            await google.colab.kernel.invokeFunction('convertToInteractive',\n",
              "                                                     [key], {});\n",
              "          if (!dataTable) return;\n",
              "\n",
              "          const docLinkHtml = 'Like what you see? Visit the ' +\n",
              "            '<a target=\"_blank\" href=https://colab.research.google.com/notebooks/data_table.ipynb>data table notebook</a>'\n",
              "            + ' to learn more about interactive tables.';\n",
              "          element.innerHTML = '';\n",
              "          dataTable['output_type'] = 'display_data';\n",
              "          await google.colab.output.renderOutput(dataTable, element);\n",
              "          const docLink = document.createElement('div');\n",
              "          docLink.innerHTML = docLinkHtml;\n",
              "          element.appendChild(docLink);\n",
              "        }\n",
              "      </script>\n",
              "    </div>\n",
              "  </div>\n",
              "  "
            ]
          },
          "metadata": {},
          "execution_count": 14
        }
      ]
    },
    {
      "cell_type": "code",
      "source": [
        "new_label = []\n",
        "\n",
        "l = len(df1)\n",
        "\n",
        "for x in range(0, l):\n",
        "  if df1['Stability'].iloc[x] == \"Failed\":\n",
        "    if df1['Cluster'].iloc[x] == 0:\n",
        "      new_label.append(\"F0\")\n",
        "    else:\n",
        "      new_label.append(\"F1\")\n",
        "  else:\n",
        "    if df1['Cluster'].iloc[x] == 0:\n",
        "      new_label.append(\"I0\")\n",
        "    else:\n",
        "      new_label.append(\"I1\")"
      ],
      "metadata": {
        "id": "D49luJJ7VoAi"
      },
      "execution_count": null,
      "outputs": []
    },
    {
      "cell_type": "code",
      "source": [
        "df1 = df1.drop([\"Stability\", \"Cluster\"],axis=1)\n",
        "df1['Cluster'] = pd.DataFrame(new_label)\n",
        "df1"
      ],
      "metadata": {
        "colab": {
          "base_uri": "https://localhost:8080/",
          "height": 423
        },
        "id": "AOWNKnG6XyiU",
        "outputId": "83f4df45-f76e-4ddf-ed14-c2f103041866"
      },
      "execution_count": null,
      "outputs": [
        {
          "output_type": "execute_result",
          "data": {
            "text/plain": [
              "     Depth    BW     PW    MH Cluster\n",
              "0    76.20  6.10   4.88  1.37      F0\n",
              "1    29.00  6.30   5.40  2.90      F0\n",
              "2    60.00  6.00   7.00  1.82      F0\n",
              "3    53.00  6.10   5.60  1.80      F0\n",
              "4    21.00  5.25   6.75  3.20      F0\n",
              "..     ...   ...    ...   ...     ...\n",
              "418  21.34  6.71   6.10  2.74      I0\n",
              "419  30.48  6.40   6.40  3.66      I0\n",
              "420  41.15  6.40   6.40  1.98      I0\n",
              "421  78.54  6.00  14.00  2.70      I0\n",
              "422  78.54  6.00  14.00  2.40      I0\n",
              "\n",
              "[423 rows x 5 columns]"
            ],
            "text/html": [
              "\n",
              "  <div id=\"df-96ccc304-4fe5-4be8-9cf9-a75b92171d49\">\n",
              "    <div class=\"colab-df-container\">\n",
              "      <div>\n",
              "<style scoped>\n",
              "    .dataframe tbody tr th:only-of-type {\n",
              "        vertical-align: middle;\n",
              "    }\n",
              "\n",
              "    .dataframe tbody tr th {\n",
              "        vertical-align: top;\n",
              "    }\n",
              "\n",
              "    .dataframe thead th {\n",
              "        text-align: right;\n",
              "    }\n",
              "</style>\n",
              "<table border=\"1\" class=\"dataframe\">\n",
              "  <thead>\n",
              "    <tr style=\"text-align: right;\">\n",
              "      <th></th>\n",
              "      <th>Depth</th>\n",
              "      <th>BW</th>\n",
              "      <th>PW</th>\n",
              "      <th>MH</th>\n",
              "      <th>Cluster</th>\n",
              "    </tr>\n",
              "  </thead>\n",
              "  <tbody>\n",
              "    <tr>\n",
              "      <th>0</th>\n",
              "      <td>76.20</td>\n",
              "      <td>6.10</td>\n",
              "      <td>4.88</td>\n",
              "      <td>1.37</td>\n",
              "      <td>F0</td>\n",
              "    </tr>\n",
              "    <tr>\n",
              "      <th>1</th>\n",
              "      <td>29.00</td>\n",
              "      <td>6.30</td>\n",
              "      <td>5.40</td>\n",
              "      <td>2.90</td>\n",
              "      <td>F0</td>\n",
              "    </tr>\n",
              "    <tr>\n",
              "      <th>2</th>\n",
              "      <td>60.00</td>\n",
              "      <td>6.00</td>\n",
              "      <td>7.00</td>\n",
              "      <td>1.82</td>\n",
              "      <td>F0</td>\n",
              "    </tr>\n",
              "    <tr>\n",
              "      <th>3</th>\n",
              "      <td>53.00</td>\n",
              "      <td>6.10</td>\n",
              "      <td>5.60</td>\n",
              "      <td>1.80</td>\n",
              "      <td>F0</td>\n",
              "    </tr>\n",
              "    <tr>\n",
              "      <th>4</th>\n",
              "      <td>21.00</td>\n",
              "      <td>5.25</td>\n",
              "      <td>6.75</td>\n",
              "      <td>3.20</td>\n",
              "      <td>F0</td>\n",
              "    </tr>\n",
              "    <tr>\n",
              "      <th>...</th>\n",
              "      <td>...</td>\n",
              "      <td>...</td>\n",
              "      <td>...</td>\n",
              "      <td>...</td>\n",
              "      <td>...</td>\n",
              "    </tr>\n",
              "    <tr>\n",
              "      <th>418</th>\n",
              "      <td>21.34</td>\n",
              "      <td>6.71</td>\n",
              "      <td>6.10</td>\n",
              "      <td>2.74</td>\n",
              "      <td>I0</td>\n",
              "    </tr>\n",
              "    <tr>\n",
              "      <th>419</th>\n",
              "      <td>30.48</td>\n",
              "      <td>6.40</td>\n",
              "      <td>6.40</td>\n",
              "      <td>3.66</td>\n",
              "      <td>I0</td>\n",
              "    </tr>\n",
              "    <tr>\n",
              "      <th>420</th>\n",
              "      <td>41.15</td>\n",
              "      <td>6.40</td>\n",
              "      <td>6.40</td>\n",
              "      <td>1.98</td>\n",
              "      <td>I0</td>\n",
              "    </tr>\n",
              "    <tr>\n",
              "      <th>421</th>\n",
              "      <td>78.54</td>\n",
              "      <td>6.00</td>\n",
              "      <td>14.00</td>\n",
              "      <td>2.70</td>\n",
              "      <td>I0</td>\n",
              "    </tr>\n",
              "    <tr>\n",
              "      <th>422</th>\n",
              "      <td>78.54</td>\n",
              "      <td>6.00</td>\n",
              "      <td>14.00</td>\n",
              "      <td>2.40</td>\n",
              "      <td>I0</td>\n",
              "    </tr>\n",
              "  </tbody>\n",
              "</table>\n",
              "<p>423 rows × 5 columns</p>\n",
              "</div>\n",
              "      <button class=\"colab-df-convert\" onclick=\"convertToInteractive('df-96ccc304-4fe5-4be8-9cf9-a75b92171d49')\"\n",
              "              title=\"Convert this dataframe to an interactive table.\"\n",
              "              style=\"display:none;\">\n",
              "        \n",
              "  <svg xmlns=\"http://www.w3.org/2000/svg\" height=\"24px\"viewBox=\"0 0 24 24\"\n",
              "       width=\"24px\">\n",
              "    <path d=\"M0 0h24v24H0V0z\" fill=\"none\"/>\n",
              "    <path d=\"M18.56 5.44l.94 2.06.94-2.06 2.06-.94-2.06-.94-.94-2.06-.94 2.06-2.06.94zm-11 1L8.5 8.5l.94-2.06 2.06-.94-2.06-.94L8.5 2.5l-.94 2.06-2.06.94zm10 10l.94 2.06.94-2.06 2.06-.94-2.06-.94-.94-2.06-.94 2.06-2.06.94z\"/><path d=\"M17.41 7.96l-1.37-1.37c-.4-.4-.92-.59-1.43-.59-.52 0-1.04.2-1.43.59L10.3 9.45l-7.72 7.72c-.78.78-.78 2.05 0 2.83L4 21.41c.39.39.9.59 1.41.59.51 0 1.02-.2 1.41-.59l7.78-7.78 2.81-2.81c.8-.78.8-2.07 0-2.86zM5.41 20L4 18.59l7.72-7.72 1.47 1.35L5.41 20z\"/>\n",
              "  </svg>\n",
              "      </button>\n",
              "      \n",
              "  <style>\n",
              "    .colab-df-container {\n",
              "      display:flex;\n",
              "      flex-wrap:wrap;\n",
              "      gap: 12px;\n",
              "    }\n",
              "\n",
              "    .colab-df-convert {\n",
              "      background-color: #E8F0FE;\n",
              "      border: none;\n",
              "      border-radius: 50%;\n",
              "      cursor: pointer;\n",
              "      display: none;\n",
              "      fill: #1967D2;\n",
              "      height: 32px;\n",
              "      padding: 0 0 0 0;\n",
              "      width: 32px;\n",
              "    }\n",
              "\n",
              "    .colab-df-convert:hover {\n",
              "      background-color: #E2EBFA;\n",
              "      box-shadow: 0px 1px 2px rgba(60, 64, 67, 0.3), 0px 1px 3px 1px rgba(60, 64, 67, 0.15);\n",
              "      fill: #174EA6;\n",
              "    }\n",
              "\n",
              "    [theme=dark] .colab-df-convert {\n",
              "      background-color: #3B4455;\n",
              "      fill: #D2E3FC;\n",
              "    }\n",
              "\n",
              "    [theme=dark] .colab-df-convert:hover {\n",
              "      background-color: #434B5C;\n",
              "      box-shadow: 0px 1px 3px 1px rgba(0, 0, 0, 0.15);\n",
              "      filter: drop-shadow(0px 1px 2px rgba(0, 0, 0, 0.3));\n",
              "      fill: #FFFFFF;\n",
              "    }\n",
              "  </style>\n",
              "\n",
              "      <script>\n",
              "        const buttonEl =\n",
              "          document.querySelector('#df-96ccc304-4fe5-4be8-9cf9-a75b92171d49 button.colab-df-convert');\n",
              "        buttonEl.style.display =\n",
              "          google.colab.kernel.accessAllowed ? 'block' : 'none';\n",
              "\n",
              "        async function convertToInteractive(key) {\n",
              "          const element = document.querySelector('#df-96ccc304-4fe5-4be8-9cf9-a75b92171d49');\n",
              "          const dataTable =\n",
              "            await google.colab.kernel.invokeFunction('convertToInteractive',\n",
              "                                                     [key], {});\n",
              "          if (!dataTable) return;\n",
              "\n",
              "          const docLinkHtml = 'Like what you see? Visit the ' +\n",
              "            '<a target=\"_blank\" href=https://colab.research.google.com/notebooks/data_table.ipynb>data table notebook</a>'\n",
              "            + ' to learn more about interactive tables.';\n",
              "          element.innerHTML = '';\n",
              "          dataTable['output_type'] = 'display_data';\n",
              "          await google.colab.output.renderOutput(dataTable, element);\n",
              "          const docLink = document.createElement('div');\n",
              "          docLink.innerHTML = docLinkHtml;\n",
              "          element.appendChild(docLink);\n",
              "        }\n",
              "      </script>\n",
              "    </div>\n",
              "  </div>\n",
              "  "
            ]
          },
          "metadata": {},
          "execution_count": 16
        }
      ]
    },
    {
      "cell_type": "code",
      "source": [
        "df1.to_csv('new_clustered_data.csv', index=False)\n",
        "df1.to_excel('new_clustered_data.xlsx', index=False)"
      ],
      "metadata": {
        "id": "KqOP_OQnM8r1"
      },
      "execution_count": null,
      "outputs": []
    }
  ]
}